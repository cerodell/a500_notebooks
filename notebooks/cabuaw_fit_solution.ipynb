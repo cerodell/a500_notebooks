{
 "cells": [
  {
   "cell_type": "code",
   "execution_count": null,
   "metadata": {},
   "outputs": [],
   "source": [
    "import glob\n",
    "from netCDF4 import Dataset\n",
    "from dateutil.parser import parse\n",
    "import datetime\n",
    "import numpy as np\n",
    "import matplotlib.dates as mdates\n",
    "import matplotlib.pyplot as plt\n",
    "import pytz\n",
    "from datetime import datetime as dt"
   ]
  },
  {
   "cell_type": "markdown",
   "metadata": {},
   "source": [
    "# read in the july 2014 profiles"
   ]
  },
  {
   "cell_type": "code",
   "execution_count": null,
   "metadata": {},
   "outputs": [],
   "source": [
    "the_file='cabauw_ubc.nc'\n",
    "group='m201407'\n",
    "with Dataset(the_file,'r') as nc_ubc:\n",
    "    jul_nc=nc_ubc.groups[group]\n",
    "    z=nc_ubc.variables['z'][...]\n",
    "    jul_speed=jul_nc.variables['F'][...]\n",
    "    jul_ta002 = jul_nc.variables['TA002']\n",
    "\n",
    "jul_speed.shape"
   ]
  },
  {
   "cell_type": "markdown",
   "metadata": {},
   "source": [
    "# calculate hourly averages"
   ]
  },
  {
   "cell_type": "code",
   "execution_count": null,
   "metadata": {},
   "outputs": [],
   "source": [
    "hourly_wind_avg=jul_speed.mean(axis=2)"
   ]
  },
  {
   "cell_type": "code",
   "execution_count": null,
   "metadata": {},
   "outputs": [],
   "source": [
    "hourly_wind_avg.shape"
   ]
  },
  {
   "cell_type": "markdown",
   "metadata": {},
   "source": [
    "# calculate monthly averages"
   ]
  },
  {
   "cell_type": "code",
   "execution_count": null,
   "metadata": {},
   "outputs": [],
   "source": [
    "monthly_wind_avg=jul_speed.mean(axis=(0,2))\n",
    "monthly_wind_avg.shape"
   ]
  },
  {
   "cell_type": "code",
   "execution_count": null,
   "metadata": {},
   "outputs": [],
   "source": [
    "the_month='jul, 2014'\n",
    "alpha=0.4\n",
    "hour=2\n",
    "fig,ax=plt.subplots(1,3,figsize=(8,6))\n",
    "ax[0].plot(hourly_wind_avg[:,hour,:].T,z,alpha=alpha)\n",
    "ax[0].plot(monthly_wind_avg[hour,:].T,z,'k-',lw=2)\n",
    "ax[0].set(title='hour: {} UTC'.format(hour))\n",
    "hour=10\n",
    "ax[1].plot(hourly_wind_avg[:,hour,:].T,z,alpha=alpha)\n",
    "ax[1].plot(monthly_wind_avg[hour,:].T,z,'k-',lw=2)\n",
    "ax[1].set(title='hour: {} UTC'.format(hour))\n",
    "fig.suptitle('{} hourly avg winds'.format(the_month))\n",
    "hour=14\n",
    "ax[2].plot(hourly_wind_avg[:,hour,:].T,z,alpha=alpha)\n",
    "ax[2].plot(monthly_wind_avg[hour,:].T,z,'k-',lw=2)\n",
    "ax[2].set(title='hour: {} UTC'.format(hour))\n",
    "fig.suptitle('{} hourly avg winds with monthly average'.format(the_month));"
   ]
  },
  {
   "cell_type": "markdown",
   "metadata": {},
   "source": [
    "# Fit the wind profiles to a modified log(z) function"
   ]
  },
  {
   "cell_type": "markdown",
   "metadata": {},
   "source": [
    "Follow [Verkaik and Holtslag, 2007](http://ezproxy.library.ubc.ca/login?url=http://link.springer.com/10.1007/s10546-006-9121-1) and fit the windspeed to a modified log profile using scipy.optimize.curve_fit\n",
    "\n",
    "```\n",
    "S=a0 + a1*z + a2*z**2 + a3*np.log(z)\n",
    "direc=b0 + b1*z + b2*z**2\n",
    "theta=c0 + c1*z + c2*z**2. + c3*np.log(z)\n",
    "```"
   ]
  },
  {
   "cell_type": "code",
   "execution_count": null,
   "metadata": {},
   "outputs": [],
   "source": [
    "def wind_func(z, *coeffs):\n",
    "    'nonlinear function in a and to fit to data'\n",
    "    fullfit = coeffs[0] + coeffs[1]*z + coeffs[2]*z**2. + coeffs[3]*np.log(z)\n",
    "    return fullfit\n",
    "\n",
    "def wind_terms(z, *coeffs):\n",
    "    'nonlinear function in a and to fit to data'\n",
    "    fullfit = coeffs[0] + coeffs[1]*z + coeffs[2]*z**2. + coeffs[3]*np.log(z)\n",
    "    term1 = coeffs[0] + coeffs[3]*np.log(z)\n",
    "    term12 = term1 + coeffs[1]*z\n",
    "    term123 = term12 + coeffs[2]*z**2.\n",
    "    return fullfit, term1, term12, term123"
   ]
  },
  {
   "cell_type": "code",
   "execution_count": null,
   "metadata": {},
   "outputs": [],
   "source": [
    "import numpy as np\n",
    "from scipy.optimize import curve_fit\n",
    "import scipy\n",
    "from scipy.stats.distributions import  t\n",
    "import warnings\n",
    "warnings.filterwarnings(\"ignore\",category=scipy.optimize.OptimizeWarning)"
   ]
  },
  {
   "cell_type": "markdown",
   "metadata": {},
   "source": [
    "## 2am UTC   -- most stable"
   ]
  },
  {
   "cell_type": "code",
   "execution_count": null,
   "metadata": {},
   "outputs": [],
   "source": [
    "# 2 UTC\n",
    "hour1=2 # early morning\n",
    "fig,ax=plt.subplots(1,2,figsize=(8,6))\n",
    "fig.suptitle(f'July 2014 U profiles at {hour1} UTC')\n",
    "ax[0].plot(monthly_wind_avg[hour1,:],z)\n",
    "ax[0].set(title='monthly average')\n",
    "#\n",
    "# flip tower data so it goes from bottom to top\n",
    "# and get rid of the lowest level, which doesn't\n",
    "# have a measurement\n",
    "#\n",
    "rev_z=z[::-1]\n",
    "rev_z=rev_z[1:]\n",
    "#test=hourly_wind_avg[day,hour1,::-1]\n",
    "test=monthly_wind_avg[hour1,::-1]\n",
    "#\n",
    "# lose the bottom value\n",
    "#\n",
    "test=test[1:]\n",
    "initial_guess=[0,0,0,0]\n",
    "pars, pcov = curve_fit(wind_func, rev_z, test, p0=initial_guess)\n",
    "zinterp=np.linspace(10.,200,50.)\n",
    "speed_interp=wind_func(zinterp,*pars)\n",
    "ax[0].plot(speed_interp,zinterp,'ro',alpha=0.5)\n",
    "print(f'fit coefficients {pars}')\n",
    "fit, term1, term12, term123 = wind_terms(zinterp, *pars)\n",
    "ax[1].plot(fit,zinterp,'ro',alpha=0.8,label='fullfit')\n",
    "ax[1].plot(term1,zinterp,label='term1')\n",
    "ax[1].plot(term12,zinterp,label='term12')\n",
    "ax[1].plot(term123,zinterp,label='term123')\n",
    "ax[1].legend();"
   ]
  },
  {
   "cell_type": "markdown",
   "metadata": {},
   "source": [
    "## 10am  -- convection starting"
   ]
  },
  {
   "cell_type": "code",
   "execution_count": null,
   "metadata": {},
   "outputs": [],
   "source": [
    "# 10 UTC\n",
    "hour2=10 # later morning\n",
    "fig,ax=plt.subplots(1,3,figsize=(10,6))\n",
    "fig.suptitle(f'U profiles for  at {hour2} UTC')\n",
    "\n",
    "test=monthly_wind_avg[hour2,::-1]\n",
    "#\n",
    "# lose the bottom value\n",
    "#\n",
    "test=test[1:]\n",
    "initial_guess=[0,0,0,0]\n",
    "pars, pcov = curve_fit(wind_func, rev_z, test, p0=initial_guess)\n",
    "zinterp=np.linspace(10.,200,50.)\n",
    "speed_interp=wind_func(zinterp,*pars)\n",
    "ax[0].plot(speed_interp,zinterp,'ro',alpha=0.5)\n",
    "print(f'fit coefficients {pars}')\n",
    "fit, term1, term12, term123 = wind_terms(zinterp, *pars)\n",
    "ax[1].plot(fit,zinterp,'ro',alpha=0.8,label='fullfit')\n",
    "ax[1].plot(term1,zinterp,label='term1')\n",
    "ax[1].plot(term12,zinterp,label='term12')\n",
    "ax[1].plot(term123,zinterp,label='term123')\n",
    "ax[1].legend();"
   ]
  },
  {
   "cell_type": "code",
   "execution_count": null,
   "metadata": {
    "lines_to_next_cell": 2
   },
   "outputs": [],
   "source": [
    "# 14 UTC\n",
    "hour3=14 # afternoon\n",
    "fig,ax=plt.subplots(1,2,figsize=(10,6))\n",
    "fig.suptitle(f'U profiles July at {hour3} UTC')\n",
    "test=monthly_wind_avg[hour3,::-1]\n",
    "#\n",
    "# lose the bottom value\n",
    "#\n",
    "test=test[1:]\n",
    "initial_guess=[0,0,0,0]\n",
    "pars, pcov = curve_fit(wind_func, rev_z, test, p0=initial_guess)\n",
    "zinterp=np.linspace(10.,200,50.)\n",
    "speed_interp=wind_func(zinterp,*pars)\n",
    "ax[0].plot(speed_interp,zinterp,'ro',alpha=0.5)\n",
    "print(f'fit coefficients {pars}')\n",
    "fit, term1, term12, term123 = wind_terms(zinterp, *pars)\n",
    "ax[1].plot(fit,zinterp,'ro',alpha=0.8,label='fullfit')\n",
    "ax[1].plot(term1,zinterp,label='term1')\n",
    "ax[1].plot(term12,zinterp,label='term12')\n",
    "ax[1].plot(term123,zinterp,label='term123')\n",
    "ax[1].legend();"
   ]
  },
  {
   "cell_type": "markdown",
   "metadata": {},
   "source": [
    "# calculate L"
   ]
  },
  {
   "cell_type": "code",
   "execution_count": null,
   "metadata": {},
   "outputs": [],
   "source": [
    "with Dataset(the_file,'r') as nc_ubc:\n",
    "    jul_nc=nc_ubc.groups[group]\n",
    "    H=jul_nc.variables['H'][...]\n",
    "    LE = jul_nc.variables['LE'][...]\n",
    "    USTAR = jul_nc.variables['UST'][...]\n",
    "    TA002 = jul_nc.variables['TA002'][...]\n",
    "    Q002 = jul_nc.variables['Q002'][...]\n",
    "    P0 = jul_nc.variables['P0'][...]\n",
    "    timevec = jul_nc.variables['time'][...]\n",
    "    timevec = [dt.fromtimestamp(item,pytz.utc) \\\n",
    "               for item in timevec.flat]\n",
    "    \n",
    "Rd=287.  #J/kg/K\n",
    "# cp = 1004.  #J/kg/K\n",
    "k = 0.4\n",
    "g=9.8\n",
    "rho = P0*1.e2/(Rd*(TA002 + 273.15))\n",
    "\n"
   ]
  },
  {
   "cell_type": "markdown",
   "metadata": {},
   "source": [
    "## Buoyancy flux and L"
   ]
  },
  {
   "cell_type": "code",
   "execution_count": null,
   "metadata": {},
   "outputs": [],
   "source": [
    "#fleagle and bussinger eq. 6.31\n",
    "Eb = H + 0.02*LE\n",
    "#virtural temperature \n",
    "Tv = TA002 + 273.15  + 0.61*Q002*1.e-3\n",
    "#Fleagle and Businger 6.47\n",
    "L = - Tv*cp*rho*USTAR**3./(k*g*Eb)\n",
    "good = np.abs(Eb) > 1"
   ]
  },
  {
   "cell_type": "code",
   "execution_count": null,
   "metadata": {},
   "outputs": [],
   "source": [
    "fig,ax=plt.subplots(1,1)\n",
    "out=plt.hist(L[good].flatten(),bins=np.linspace(-150,150,40))"
   ]
  },
  {
   "cell_type": "code",
   "execution_count": null,
   "metadata": {},
   "outputs": [],
   "source": [
    "fig,ax=plt.subplots(1,1,figsize=(8,6))\n",
    "fig.autofmt_xdate()\n",
    "ax.plot(timevec,L.flatten())\n",
    "title='Obukhov length L {}'.format(the_month)\n",
    "out=ax.set(title=title,ylabel='L $(m)$',ylim=[-150,150])"
   ]
  },
  {
   "cell_type": "markdown",
   "metadata": {},
   "source": [
    "# check the u profile at 20 and 80 meters\n",
    "\n",
    "How good do equations 18 and 19 of our similarity layer notes do in\n",
    "fitting the Cabauw profiles?  The functions `find_gradient` and\n",
    "`find_scaling` calculate the actual scaled gradient phi from\n",
    "the tower profiles.  Remember the conclusion in Figure 5 of the V-H paper.  The hedgerows,etc. cause more mixing, which decreases the gradient in stable conditions compared to completely flat terrain.\n",
    "\n",
    "<img src=\"images/figure5_vh.png\" width=\"60%\" />\n",
    "\n",
    "Can we reproduce these results with their dataset?\n",
    "\n",
    "Here are equations 18 and 19 for reference:"
   ]
  },
  {
   "cell_type": "markdown",
   "metadata": {},
   "source": [
    "## the measurements"
   ]
  },
  {
   "cell_type": "code",
   "execution_count": null,
   "metadata": {},
   "outputs": [],
   "source": [
    "# get indexes for z = 20 m and z = 80 m\n",
    "level_80 = np.where(z == 80)[0][0]\n",
    "level_20 = np.where(z == 20)[0][0]\n",
    "\n",
    "# helper functions for calculating phis\n",
    "def find_gradient(hourly_wind_avg, z, day, hour, level):\n",
    "    \"Function to quickly calculate dUdz for a certain hour and level\"\n",
    "    \"Uses 'forward euler' to numerically calculate gradient\"\n",
    "    \n",
    "    return (hourly_wind_avg[day,hour,level] - \n",
    "            hourly_wind_avg[day,hour,level+1])/(z[level] - z[level+1])\n",
    "\n",
    "def find_scaling(hourly_wind_avg, z, L, ustars, day, hour, level):\n",
    "    \"\"\"Calculate phi and zeta at a given level and time\"\"\"\n",
    "    \n",
    "    k = 0.40\n",
    "    height = z[level]\n",
    "    ustar = ustars[day, hour, level]\n",
    "    dUdz = find_gradient(hourly_wind_avg, z, day, hour, level)\n",
    "    phi = (k*height/ustar)*dUdz\n",
    "    zeta = z[level]/L[day, hour, level]\n",
    "    return phi,zeta"
   ]
  },
  {
   "cell_type": "markdown",
   "metadata": {},
   "source": [
    "## The B-Dyer fits\n",
    "\n",
    "The two functions `dyer` and `fit_dyer` calculate the phi predicted from the\n",
    "textbook equations and then using the V-Holtzlag fitted coefficients"
   ]
  },
  {
   "cell_type": "code",
   "execution_count": null,
   "metadata": {},
   "outputs": [],
   "source": [
    "def dyer(zeta):\n",
    "    'calculate curve from Dyer equations (Surface layer similarity 18 + 19)'\n",
    "    #gradient_fit = (zeta**(1))*(coeffs[0] + 2*coeffs[1]*zeta + coeffs[2]*1/zeta) # derivative, dU/dz as estimated from Nieuwstadt (1984)\n",
    "    gamma_1 =16\n",
    "    beta = 5\n",
    "    if zeta < 0:\n",
    "        # unstable\n",
    "        phi_dyer = (1 - gamma_1*zeta)**(-1/4)\n",
    "    else:\n",
    "        phi_dyer = 1 + beta*zeta\n",
    "    return phi_dyer\n",
    "\n",
    "def fit_dyer(zetas, *coeffs):\n",
    "    'calculate curve from Dyer equations (Surface layer similarity 18 + 19)'\n",
    "    #gradient_fit = (zeta**(1))*(coeffs[0] + 2*coeffs[1]*zeta + coeffs[2]*1/zeta) # derivative, dU/dz as estimated from Nieuwstadt (1984)\n",
    "    phi_dyers = []\n",
    "    for zeta in zetas:\n",
    "        if zeta < 0:\n",
    "            # unstable\n",
    "            phi_dyer = (1 - coeffs[0]*zeta)**(-1/4)\n",
    "        else:\n",
    "            phi_dyer = 1 + coeffs[1]*zeta\n",
    "        phi_dyers.append(phi_dyer)\n",
    "    return phi_dyers"
   ]
  },
  {
   "cell_type": "markdown",
   "metadata": {},
   "source": [
    "# Plot these\n",
    "\n",
    "Compare the B-dyer equations with the V-H local scaling fit and the Cabauw observations\n",
    "\n",
    "Note that the "
   ]
  },
  {
   "cell_type": "code",
   "execution_count": null,
   "metadata": {
    "lines_to_next_cell": 2
   },
   "outputs": [],
   "source": [
    "# calculate and plot cabauw data with the Dyer equations + fit\n",
    "level_80 = np.where(z == 80)[0][0]\n",
    "level_20 = np.where(z == 20)[0][0]\n",
    "day = 19\n",
    "\n",
    "hour1, hour2, hour3 = 2, 10, 14\n",
    "hours = [hour1,hour2,hour3]\n",
    "levels = [level_80, level_20]\n",
    "\n",
    "phi_len = len(hours)*len(levels)\n",
    "phis = np.empty([phi_len])\n",
    "zetas = np.empty([phi_len])\n",
    "\n",
    "phis80 = []\n",
    "zetas80 = []\n",
    "phis20 = []\n",
    "zetas20 = []\n",
    "\n",
    "# calculate phi from data\n",
    "for hour in hours:\n",
    "    for level in levels:\n",
    "        phi,zeta = find_scaling(hourly_wind_avg, z, L, USTAR, day, hour, level)\n",
    "        if level==levels[0]:\n",
    "            phis80.append(phi)\n",
    "            zetas80.append(zeta)\n",
    "        else:\n",
    "            phis20.append(phi)\n",
    "            zetas20.append(zeta)\n",
    "\n",
    "fig,ax=plt.subplots(1,2,figsize=(10,6))\n",
    "fig.suptitle(r\"$\\phi_m\\ vs.\\ \\zeta\\ for\\ day\\ {}$\".format(day,hour3),fontsize=20)\n",
    "ax[0].plot(zetas80, phis80, '.b',label='cabauw')\n",
    "ax[1].plot(zetas20, phis20, '.g',label='cabauw')\n",
    "ax[0].set(xlabel=r'$\\zeta$',ylabel=r'$\\phi_m$',title='z = {} m'.format(z[levels[0]]))\n",
    "ax[1].set(xlabel=r'$\\zeta$',ylabel=r'$\\phi_m$',title='z = {} m'.format(z[levels[1]]))\n",
    "\n",
    "# calculate Dyer values for phi\n",
    "dyer_zetas80 = np.arange(min(zetas80),max(zetas80),0.001)\n",
    "dyer_zetas20 = np.arange(min(zetas20),max(zetas80),0.001)\n",
    "\n",
    "phis_dyer80 = [dyer(dyer_zeta80) for dyer_zeta80 in dyer_zetas80]   \n",
    "phis_dyer20 = [dyer(dyer_zeta20) for dyer_zeta20 in dyer_zetas20] \n",
    "\n",
    "ax[0].plot(dyer_zetas80, phis_dyer80 , '-m',label='dyer')\n",
    "ax[1].plot(dyer_zetas20, phis_dyer20, '-m',label='dyer')\n",
    "\n",
    "# fit curve for z = 80 m\n",
    "initial_guess=[0,0]\n",
    "pars80, pcov80 = curve_fit(fit_dyer, zetas80, phis80, p0=initial_guess)\n",
    "zetainterp=np.linspace(min(zetas80),max(zetas80),50.)\n",
    "grad_interp=fit_dyer(zetainterp,*pars80)\n",
    "fit80=ax[0].plot(zetainterp,grad_interp,'c--',alpha=0.5,label='fit')\n",
    "\n",
    "# fit curve for z = 20 m\n",
    "initial_guess=[0,0]\n",
    "pars20, pcov20 = curve_fit(fit_dyer, zetas20, phis20, p0=initial_guess)\n",
    "zetainterp=np.linspace(min(zetas20),max(zetas20),50.)\n",
    "grad_interp=fit_dyer(zetainterp,*pars20)\n",
    "fit20=ax[1].plot(zetainterp,grad_interp,'c--',alpha=0.5,label='fit')\n",
    "\n",
    "ax[0].legend(loc='best')\n",
    "ax[1].legend(loc='best')"
   ]
  },
  {
   "cell_type": "code",
   "execution_count": null,
   "metadata": {},
   "outputs": [],
   "source": []
  }
 ],
 "metadata": {
  "jupytext": {
   "cell_metadata_filter": "all",
   "cell_metadata_json": true,
   "formats": "ipynb,py:percent",
   "notebook_metadata_filter": "all,-language_info,-toc,-latex_envs",
   "text_representation": {
    "extension": ".py",
    "format_name": "percent",
    "format_version": "1.3",
    "jupytext_version": "1.3.0"
   }
  },
  "kernelspec": {
   "display_name": "Python 3",
   "language": "python",
   "name": "python3"
  },
  "language_info": {
   "codemirror_mode": {
    "name": "ipython",
    "version": 3
   },
   "file_extension": ".py",
   "mimetype": "text/x-python",
   "name": "python",
   "nbconvert_exporter": "python",
   "pygments_lexer": "ipython3",
   "version": "3.7.3"
  },
  "toc": {
   "base_numbering": 1,
   "nav_menu": {},
   "number_sections": true,
   "sideBar": true,
   "skip_h1_title": false,
   "title_cell": "Table of Contents",
   "title_sidebar": "Contents",
   "toc_cell": false,
   "toc_position": {},
   "toc_section_display": true,
   "toc_window_display": false
  }
 },
 "nbformat": 4,
 "nbformat_minor": 2
}
