{
 "cells": [
  {
   "cell_type": "markdown",
   "metadata": {},
   "source": [
    "# Calculating fluxes for a tropical boundary layer"
   ]
  },
  {
   "cell_type": "markdown",
   "metadata": {},
   "source": [
    "*I changed indexing below for the mean theta and wvel calculations and removed\n",
    "the newaxis complication.   The dimensions of the velocity and temperature\n",
    "are (time,z,y,x)  or axis=(0,1,2,3).  Hopefully the sensible heat flux profile is correct\n",
    "(it's much smaller than for a dry boundary layer, because most of the energy is being\n",
    "transported by vapor in the tropical marine boundary layer*"
   ]
  },
  {
   "cell_type": "markdown",
   "metadata": {},
   "source": [
    "## Reading a netcdf file"
   ]
  },
  {
   "cell_type": "markdown",
   "metadata": {},
   "source": [
    "1.  Fetch the netcdf file tropical.nc from my webserver (50 Mbytes)"
   ]
  },
  {
   "cell_type": "code",
   "execution_count": null,
   "metadata": {},
   "outputs": [],
   "source": [
    "import numpy as np\n",
    "from netCDF4 import Dataset\n",
    "import a500\n",
    "from a500.utils.data_read import download"
   ]
  },
  {
   "cell_type": "markdown",
   "metadata": {},
   "source": [
    "Only download the data once -- set this to True if you need\n",
    "this file, otherwise skip"
   ]
  },
  {
   "cell_type": "code",
   "execution_count": null,
   "metadata": {},
   "outputs": [],
   "source": [
    "the_root = \"http://clouds.eos.ubc.ca/~phil/docs/atsc500\"\n",
    "the_file =  \"tropical_subset.nc\"\n",
    "out=download(the_file,root=the_root, dest_folder=a500.data_dir)"
   ]
  },
  {
   "cell_type": "markdown",
   "metadata": {},
   "source": [
    "2\\.  Identify the file structure using ncdump"
   ]
  },
  {
   "cell_type": "code",
   "execution_count": null,
   "metadata": {},
   "outputs": [],
   "source": [
    "from a500.utils.ncdump import ncdump\n",
    "\n",
    "the_file = a500.data_dir / the_file\n",
    "with Dataset(the_file) as nc_in:\n",
    "    ncdump(nc_in)"
   ]
  },
  {
   "cell_type": "markdown",
   "metadata": {},
   "source": [
    "3\\.  Read a variable using the netCDF4 module:  http://unidata.github.io/netcdf4-python/"
   ]
  },
  {
   "cell_type": "code",
   "execution_count": null,
   "metadata": {},
   "outputs": [],
   "source": [
    "with Dataset(the_file,'r') as nc_in:\n",
    "    print(list(nc_in.variables.keys()))\n",
    "    the_temp=nc_in.variables['TABS'][...]  \n",
    "    #\n",
    "    # remove the time dimension since we only have one timestep\n",
    "    #   \n",
    "    print('temp shape',the_temp.shape)\n",
    "    the_height=nc_in.variables['z'][...]\n",
    "    print('height shape',the_height.shape)\n",
    "    the_press=nc_in.variables['p'][...]\n",
    "    the_press=the_press*100.  #convert to Pa\n",
    "    wvel=nc_in.variables['W'][...]"
   ]
  },
  {
   "cell_type": "markdown",
   "metadata": {},
   "source": [
    "# Plotting three temperature profiles"
   ]
  },
  {
   "cell_type": "code",
   "execution_count": null,
   "metadata": {},
   "outputs": [],
   "source": [
    "%matplotlib inline\n",
    "#\n",
    "# plot 3 arbitrary columns\n",
    "#\n",
    "from matplotlib import pyplot as plt\n",
    "meter2km=1.e-3\n",
    "random_xy=[(10,20),(80,40),(25,75)]\n",
    "fig,ax=plt.subplots(1,1)\n",
    "for x,y in random_xy:\n",
    "    temp_profile=the_temp[0,:,x,y]\n",
    "    out=ax.plot(temp_profile,the_height*meter2km)  \n",
    "out=ax.set(xlabel='temperature (K)',ylabel='height (km)',title='3 profiles')"
   ]
  },
  {
   "cell_type": "markdown",
   "metadata": {},
   "source": [
    "# Calculate the horizontal average temperature"
   ]
  },
  {
   "cell_type": "code",
   "execution_count": null,
   "metadata": {},
   "outputs": [],
   "source": [
    "xmean=the_temp.mean(axis=3)\n",
    "print(xmean.shape)\n",
    "xymean=xmean.mean(axis=2)\n",
    "xymean=xymean.squeeze()\n",
    "print(xymean.shape)"
   ]
  },
  {
   "cell_type": "markdown",
   "metadata": {},
   "source": [
    "# Calculate the temperature pertubation"
   ]
  },
  {
   "cell_type": "code",
   "execution_count": null,
   "metadata": {},
   "outputs": [],
   "source": [
    "fig,ax=plt.subplots(1,1)\n",
    "for x,y in random_xy:\n",
    "    temp_profile=the_temp[0,:,x,y] - xymean\n",
    "    ax.plot(temp_profile,the_height*meter2km)  \n",
    "ax.set(xlabel='temperature (K)',ylabel='height (km)',title='3 perturbation profiles')"
   ]
  },
  {
   "cell_type": "markdown",
   "metadata": {},
   "source": [
    "# Now look at the fluxes"
   ]
  },
  {
   "cell_type": "markdown",
   "metadata": {},
   "source": [
    "1.  Write a function that takes TABS and p and returns $\\theta$, the potential temperature\n",
    "\n",
    "1.  Make a plot of the vertical profile of $\\overline{w^\\prime \\theta^\\prime}$ vs. z for\n",
    "    this model timestep\n"
   ]
  },
  {
   "cell_type": "code",
   "execution_count": null,
   "metadata": {},
   "outputs": [],
   "source": [
    "def theta(p,T):\n",
    "    \"\"\"\n",
    "      input: p (Pa), scalar pressure\n",
    "             T (K),  scalar or array of temperatures\n",
    "      output: thetaval (K) potential temperature\n",
    "    \"\"\"\n",
    "    Rd=287  #dry air gas constant  J/kg/K\n",
    "    cp=1004.  #dry air heat capacity at constant pressure (J/kg/K)\n",
    "    p0=1.e5  #reference pressure (Pa)\n",
    "    the_exp=Rd/cp\n",
    "    thetaval=T*(p0/p)**the_exp\n",
    "    return thetaval\n",
    "\n"
   ]
  },
  {
   "cell_type": "markdown",
   "metadata": {},
   "source": [
    "### Calculate $\\theta$ at every level"
   ]
  },
  {
   "cell_type": "code",
   "execution_count": null,
   "metadata": {},
   "outputs": [],
   "source": [
    "thetavals=np.empty_like(the_temp)\n",
    "for lev,press_lev in enumerate(the_press):\n",
    "    thetavals[0,lev,:,:]=theta(press_lev,the_temp[0,lev,:,:])   "
   ]
  },
  {
   "cell_type": "markdown",
   "metadata": {},
   "source": [
    "### Plot some profiles"
   ]
  },
  {
   "cell_type": "code",
   "execution_count": null,
   "metadata": {},
   "outputs": [],
   "source": [
    "fig,ax=plt.subplots(1,1)\n",
    "for x,y in random_xy:\n",
    "    theta_profile=thetavals[0,:,x,y]\n",
    "    ax.plot(theta_profile,the_height*meter2km)  \n",
    "ax.set(xlabel='potential temperature (K)',ylabel='height (km)',title='3 profiles');"
   ]
  },
  {
   "cell_type": "markdown",
   "metadata": {},
   "source": [
    "### Subtract average using numpy broadcasting"
   ]
  },
  {
   "cell_type": "markdown",
   "metadata": {},
   "source": [
    "Find the perturbation wrt the mean theta at each height.  Because of Python's broadcasting\n",
    "rules ([broadcasting](http://docs.scipy.org/doc/numpy/user/basics.broadcasting.html)) we can't\n",
    "subtract a (1,112,110,100) and a (112,) array.  Numpy will let us subtract a\n",
    "(100,110,112) and a (112,) array  so we:\n",
    "\n",
    "1) squeeze wvel to (112,110,100)\n",
    "\n",
    "2) transpose to (100,110,112)\n",
    "\n",
    "3) subtract the mean theta \n",
    "\n",
    "4) transpose back"
   ]
  },
  {
   "cell_type": "code",
   "execution_count": null,
   "metadata": {},
   "outputs": [],
   "source": [
    "w_bar=wvel[0,...].mean(axis=2).mean(axis=1)\n",
    "wvel_squeeze=wvel.squeeze()\n",
    "w_prime= wvel_squeeze.T - w_bar\n",
    "w_prime=w_prime.T\n",
    "print(w_prime.shape)"
   ]
  },
  {
   "cell_type": "code",
   "execution_count": null,
   "metadata": {},
   "outputs": [],
   "source": [
    "theta_bar=thetavals[0,...].mean(axis=2).mean(axis=1)\n",
    "thetavals_squeeze=thetavals.squeeze()\n",
    "theta_prime= thetavals_squeeze.T - theta_bar\n",
    "theta_prime=theta_prime.T\n",
    "print(theta_prime.shape)"
   ]
  },
  {
   "cell_type": "code",
   "execution_count": null,
   "metadata": {},
   "outputs": [],
   "source": [
    "flux=w_prime*theta_prime\n",
    "print(flux.shape)\n",
    "flux_profile=flux.mean(axis=2).mean(axis=1)\n",
    "print(flux_profile.shape)"
   ]
  },
  {
   "cell_type": "code",
   "execution_count": null,
   "metadata": {},
   "outputs": [],
   "source": [
    "fig,ax=plt.subplots(1,1)\n",
    "out=ax.plot(flux_profile,the_height*meter2km)\n",
    "out=ax.set(xlabel='potential temperature flux (K m/s)',ylabel='height (km)',title='theta flux')"
   ]
  },
  {
   "cell_type": "markdown",
   "metadata": {},
   "source": [
    "### convert kinematic flux to W/m^2\n",
    "\n",
    "1.  Calculate the the density profile using the ideal gas law\n",
    "\n",
    "$$p = \\rho R_d T$$"
   ]
  },
  {
   "cell_type": "code",
   "execution_count": null,
   "metadata": {},
   "outputs": [],
   "source": [
    "Rd=287 #J/kg/K\n",
    "rho=the_press/(Rd*xymean)\n",
    "fig,ax=plt.subplots(1,1,figsize=(6,6))\n",
    "out=ax.plot(rho,the_height*meter2km)\n",
    "out=ax.set(xlabel=r'$\\rho\\ (kg/m^3)$',ylabel='height (km)',title='density of dry air')"
   ]
  },
  {
   "cell_type": "markdown",
   "metadata": {},
   "source": [
    "2\\.  Calculate the enthalpy flux in $W m^{-2}$ using:\n",
    "\n",
    "$$\\rho \\overline{w^\\prime h^\\prime} = \\rho c_{pd} \\left( \\overline{w^\\prime T^\\prime} \\right ) \\approx \\rho c_{pd} \\left( \\overline{w^\\prime \\theta^\\prime} \\right ) $$\n",
    "\n",
    "\n",
    "\n"
   ]
  },
  {
   "cell_type": "code",
   "execution_count": null,
   "metadata": {},
   "outputs": [],
   "source": [
    "cpd=1004.  #J/kg/K\n",
    "flux=cpd*rho*flux_profile\n",
    "fig,ax=plt.subplots(1,1)\n",
    "ax.plot(flux,the_height*meter2km)\n",
    "ax.set(xlabel='sensible heat flux (W/m^2)',ylabel='height (km)',title='heat flux')\n",
    "out=ax.set(ylim=(0,2))"
   ]
  }
 ],
 "metadata": {
  "jupytext": {
   "cell_metadata_filter": "all",
   "cell_metadata_json": true,
   "formats": "ipynb,py:percent",
   "notebook_metadata_filter": "all,-language_info,-toc,-latex_envs",
   "text_representation": {
    "extension": ".py",
    "format_name": "percent",
    "format_version": "1.3",
    "jupytext_version": "1.3.0"
   }
  },
  "kernelspec": {
   "display_name": "Python 3",
   "language": "python",
   "name": "python3"
  },
  "language_info": {
   "codemirror_mode": {
    "name": "ipython",
    "version": 3
   },
   "file_extension": ".py",
   "mimetype": "text/x-python",
   "name": "python",
   "nbconvert_exporter": "python",
   "pygments_lexer": "ipython3",
   "version": "3.7.3"
  },
  "toc": {
   "base_numbering": 1,
   "nav_menu": {},
   "number_sections": true,
   "sideBar": true,
   "skip_h1_title": false,
   "title_cell": "Table of Contents",
   "title_sidebar": "Contents",
   "toc_cell": false,
   "toc_position": {},
   "toc_section_display": true,
   "toc_window_display": false
  }
 },
 "nbformat": 4,
 "nbformat_minor": 2
}
