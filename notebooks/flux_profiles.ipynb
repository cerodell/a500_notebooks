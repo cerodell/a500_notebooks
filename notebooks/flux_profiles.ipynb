{
 "cells": [
  {
   "cell_type": "markdown",
   "metadata": {},
   "source": [
    "# Introduction\n",
    "\n",
    "This notebook picks off the point at which the buoyancy flux crosses the 0 point -- i.e. the bottom of the entrainment layer"
   ]
  },
  {
   "cell_type": "code",
   "execution_count": null,
   "metadata": {},
   "outputs": [],
   "source": [
    "import urllib,os\n",
    "from matplotlib import pyplot as plt\n",
    "from netCDF4 import Dataset\n",
    "import numpy as np\n",
    "import a500\n",
    "import context\n",
    "\n",
    "from  a500.utils.data_read import download\n",
    "the_root=\"http://clouds.eos.ubc.ca/~phil/docs/atsc500/data/\"\n",
    "the_file='case_60_10.nc'\n",
    "out=download(the_file,root=the_root,dest_folder=a500.data_dir)\n",
    "\n",
    "\n",
    "\n",
    "def make_theta(temp,press):\n",
    "    \"\"\"\n",
    "      temp in K\n",
    "      press in Pa\n",
    "      returns theta in K\n",
    "    \"\"\"\n",
    "    p0=1.e5\n",
    "    Rd=287.  #J/kg/K\n",
    "    cpd=1004.  #J/kg/K\n",
    "    theta=temp*(p0/press)**(Rd/cpd)\n",
    "    return theta"
   ]
  },
  {
   "cell_type": "markdown",
   "metadata": {},
   "source": [
    "### accumulate the vertical flux profile for each of the 10 ensemble members  into the avg_flux variable"
   ]
  },
  {
   "cell_type": "code",
   "execution_count": null,
   "metadata": {},
   "outputs": [],
   "source": [
    "case_name= a500.data_dir / 'case_60_10.nc'\n",
    "#\n",
    "#  look at the first ensemble member\n",
    "#\n",
    "\n",
    "with Dataset(str(case_name),'r') as ncin:\n",
    "    ensemble='c1'\n",
    "    group = ncin.groups['c1']\n",
    "    the_shape = group.variables['TABS'].shape\n",
    "    avg_flux=np.zeros(the_shape[:2],dtype=np.float64)\n",
    "    grouplist=np.arange(1,11)\n",
    "    groupnames=['c{:d}'.format(groupnum) for groupnum in grouplist]\n",
    "    for count,the_group in enumerate(groupnames):\n",
    "        print('working on {}'.format(the_group))\n",
    "        group = ncin.groups[the_group]\n",
    "        temp=group.variables['TABS'][...]\n",
    "        wvel = group.variables['W'][...]\n",
    "        horiz_mean_temp = temp.mean(axis=3).mean(axis=2)\n",
    "        horiz_mean_wvel = wvel.mean(axis=3).mean(axis=2)\n",
    "        temp = temp.T - horiz_mean_temp.T\n",
    "        wvel = wvel.T - horiz_mean_wvel.T\n",
    "        flux =(temp*wvel).T\n",
    "        horiz_mean_flux = flux.mean(axis=3).mean(axis=2)\n",
    "        avg_flux += horiz_mean_flux\n",
    "    avg_flux = avg_flux/len(groupnames)\n",
    "    press=ncin.variables['press'][...]\n",
    "    z=ncin.variables['z'][...]\n",
    "    the_time=ncin.variables['time'][...]"
   ]
  },
  {
   "cell_type": "markdown",
   "metadata": {},
   "source": [
    "### use searchsorted and argmin to get the first zero crossing for each of the 48 profiles"
   ]
  },
  {
   "cell_type": "code",
   "execution_count": null,
   "metadata": {},
   "outputs": [],
   "source": [
    "%matplotlib inline\n",
    "plt.style.use('ggplot')\n",
    "fig,ax=plt.subplots(1,1,figsize=(10,8))\n",
    "# cp = 1004.\n",
    "rho = 1\n",
    "zstore=[]\n",
    "for i in np.arange(0,avg_flux.shape[0],1):\n",
    "    #ax.plot(avg_flux[i,:],z,'ro')\n",
    "    ax.plot(avg_flux[i,:]*rho*cp,z)\n",
    "    negheight=np.argmin(avg_flux[i,:])\n",
    "    zero_cross = np.searchsorted(-avg_flux[i,2:negheight],0.)\n",
    "    z_trun = z[2:negheight]\n",
    "    zstore.append(z_trun[zero_cross])\n",
    "    ax.text(0,z_trun[zero_cross],'{:d}'.format(i))\n",
    "    ax.plot(0,z_trun[zero_cross],'b+')\n",
    "out=ax.set(xlabel=r'$\\overline{\\theta flux}$ ($W\\,m^{-2}$)',ylabel='height (m)',\n",
    "           title='LES dry run:  surface flux=60 $W\\,m^{-2}$, $\\Gamma$=10 K/km',\n",
    "           ylim=[0,800])\n",
    "\n",
    "dump_profs=True\n",
    "if dump_profs:\n",
    "    save_dict=dict(z=z,avg_flux=avg_flux,the_time=the_time)\n",
    "    np.savez('flux_profs',**save_dict)\n",
    "\n"
   ]
  },
  {
   "cell_type": "markdown",
   "metadata": {},
   "source": [
    "### look at variablity among ensemble members at timestep 20"
   ]
  },
  {
   "cell_type": "code",
   "execution_count": null,
   "metadata": {
    "lines_to_next_cell": 2
   },
   "outputs": [],
   "source": [
    "timestep = 20\n",
    "hold_vals=np.empty([len(groupnames),the_shape[1]])\n",
    "with Dataset(case_name,'r') as ncin:\n",
    "    for count,the_group in enumerate(groupnames):\n",
    "        group = ncin.groups[the_group]\n",
    "        temp=group.variables['TABS'][timestep,...]\n",
    "        wvel = group.variables['W'][timestep,...]\n",
    "        horiz_mean_temp = temp.mean(axis=2).mean(axis=1)\n",
    "        horiz_mean_wvel = wvel.mean(axis=2).mean(axis=1)\n",
    "        temp = temp.T - horiz_mean_temp.T\n",
    "        wvel = wvel.T - horiz_mean_wvel.T\n",
    "        flux =(temp*wvel).T\n",
    "        horiz_mean_flux = flux.mean(axis=2).mean(axis=1)\n",
    "        hold_vals[count,:]=horiz_mean_flux\n",
    "\n",
    "fig,ax=plt.subplots(1,1,figsize=(10,8))\n",
    "for i in range(hold_vals.shape[0]):\n",
    "    ax.plot(hold_vals[i,:],z)\n",
    "out=ax.set(xlabel=r'$\\overline{\\theta}$ (K)',ylabel='height (m)',\n",
    "       title='LES dry run:  surface flux=60 $W\\,m^{-2}$, $\\Gamma$=10 K/km')"
   ]
  },
  {
   "cell_type": "markdown",
   "metadata": {
    "collapsed": true
   },
   "source": [
    "### Does the inversion height grow as sqrt(time)?"
   ]
  },
  {
   "cell_type": "code",
   "execution_count": null,
   "metadata": {},
   "outputs": [],
   "source": [
    "fig,ax=plt.subplots(1,1,figsize=(10,8))\n",
    "day_frac=the_time - 169\n",
    "ax.loglog(day_frac,zstore,'ro',label='les zero-cross')\n",
    "ax.loglog(day_frac,1000.*np.sqrt(day_frac),label='sqrt(time)')\n",
    "ax.set(ylim=[100,1000],xlim=[5.e-3,1])\n",
    "out=ax.legend()\n",
    "\n",
    "\n"
   ]
  },
  {
   "cell_type": "markdown",
   "metadata": {},
   "source": [
    "# Save the results to a json file"
   ]
  },
  {
   "cell_type": "code",
   "execution_count": null,
   "metadata": {},
   "outputs": [],
   "source": [
    "# Dump this to a json file\n",
    "import json\n",
    "#\n",
    "# turn float32 into float64 for json and remove mask\n",
    "# by filling missing values\n",
    "# json only understands lists, strings and dictionaries\n",
    "# but dictionaries can be nested\n",
    "#\n",
    "missing = -999.\n",
    "day_frac_filled = day_frac.filled(missing).astype(np.float64)\n",
    "day_frac_filled = list(day_frac_filled)\n",
    "zstore_64 = [float(item) for item in zstore]\n",
    "keep_dict=dict(heights=zstore_64,times=day_frac_filled)\n",
    "keep_dict['units']={\"heights\":\"m\",\"times\":\"fractions of a 24 hour day\",\n",
    "                    \"surface_flux\":\"W/m^2\",\"stability\":\"K/m\"}\n",
    "keep_dict['history']=\"written by flux_profiles.ipynb\"\n",
    "keep_dict['surface_flux']=60.\n",
    "keep_dict['stability']=0.01\n",
    "keep_dict['missing_value'] = missing\n",
    "outfile = a500.data_dir / \"dry_les_flux_profiles.json\"\n",
    "with open(outfile,'w') as output:\n",
    "    json.dump(keep_dict,output,indent=4)"
   ]
  },
  {
   "cell_type": "code",
   "execution_count": null,
   "metadata": {},
   "outputs": [],
   "source": []
  }
 ],
 "metadata": {
  "jupytext": {
   "cell_metadata_filter": "all",
   "cell_metadata_json": true,
   "formats": "ipynb,py:percent",
   "notebook_metadata_filter": "all,-language_info,-toc,-latex_envs",
   "text_representation": {
    "extension": ".py",
    "format_name": "percent",
    "format_version": "1.3",
    "jupytext_version": "1.3.0"
   }
  },
  "kernelspec": {
   "display_name": "Python 3",
   "language": "python",
   "name": "python3"
  },
  "language_info": {
   "codemirror_mode": {
    "name": "ipython",
    "version": 3
   },
   "file_extension": ".py",
   "mimetype": "text/x-python",
   "name": "python",
   "nbconvert_exporter": "python",
   "pygments_lexer": "ipython3",
   "version": "3.7.3"
  },
  "toc": {
   "base_numbering": 1,
   "nav_menu": {},
   "number_sections": true,
   "sideBar": true,
   "skip_h1_title": false,
   "title_cell": "Table of Contents",
   "title_sidebar": "Contents",
   "toc_cell": false,
   "toc_position": {},
   "toc_section_display": true,
   "toc_window_display": false
  }
 },
 "nbformat": 4,
 "nbformat_minor": 2
}
